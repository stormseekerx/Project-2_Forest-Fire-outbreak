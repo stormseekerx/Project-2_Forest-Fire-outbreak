{
 "cells": [
  {
   "cell_type": "code",
   "execution_count": 1,
   "metadata": {},
   "outputs": [],
   "source": [
    "#\n",
    "import pandas as pd\n",
    "import re\n",
    "#\n",
    "import statsmodels.api as sm\n",
    "import statsmodels.formula.api as smf\n",
    "#\n",
    "import matplotlib.pyplot as plt\n",
    "import seaborn as sns\n",
    "#"
   ]
  },
  {
   "cell_type": "code",
   "execution_count": 2,
   "metadata": {},
   "outputs": [],
   "source": [
    "# Load data and rename the columns\n",
    "df = pd.read_csv(\"C:/Users/storm/Desktop/METIS/Project/project 2/laptop_data.csv\")\n",
    "df.columns = ['price','screen_size','processor','memory','storage','os']"
   ]
  },
  {
   "cell_type": "code",
   "execution_count": 3,
   "metadata": {},
   "outputs": [
    {
     "data": {
      "text/html": [
       "<div>\n",
       "<style scoped>\n",
       "    .dataframe tbody tr th:only-of-type {\n",
       "        vertical-align: middle;\n",
       "    }\n",
       "\n",
       "    .dataframe tbody tr th {\n",
       "        vertical-align: top;\n",
       "    }\n",
       "\n",
       "    .dataframe thead th {\n",
       "        text-align: right;\n",
       "    }\n",
       "</style>\n",
       "<table border=\"1\" class=\"dataframe\">\n",
       "  <thead>\n",
       "    <tr style=\"text-align: right;\">\n",
       "      <th></th>\n",
       "      <th>price</th>\n",
       "      <th>screen_size</th>\n",
       "      <th>processor</th>\n",
       "      <th>memory</th>\n",
       "      <th>storage</th>\n",
       "      <th>os</th>\n",
       "    </tr>\n",
       "  </thead>\n",
       "  <tbody>\n",
       "    <tr>\n",
       "      <th>0</th>\n",
       "      <td>S$999.00</td>\n",
       "      <td>['\\nScreen Size:\\n15.6 Inch\\n']</td>\n",
       "      <td>['\\nProcessor Model:\\nIntel Core i5-1035G4\\n']</td>\n",
       "      <td>['\\nMain Memory:\\n8GB DDR4\\n']</td>\n",
       "      <td>['\\nInternal Storage:\\n512GB PCIE SSD\\n']</td>\n",
       "      <td>['\\nOperating System:\\nWindow 10 Home\\n']</td>\n",
       "    </tr>\n",
       "    <tr>\n",
       "      <th>1</th>\n",
       "      <td>S$1,199.00</td>\n",
       "      <td>['\\nScreen Size:\\n13.3 Inch\\n']</td>\n",
       "      <td>['\\nProcessor Model:\\n10th Gen Intel Core™ i5-...</td>\n",
       "      <td>['\\nMain Memory:\\n8GB\\n']</td>\n",
       "      <td>['\\nInternal Storage:\\n512GB PCIe SSD\\n']</td>\n",
       "      <td>['\\nOperating System:\\nWindows® 10 Home\\n']</td>\n",
       "    </tr>\n",
       "    <tr>\n",
       "      <th>2</th>\n",
       "      <td>S$1,299.00</td>\n",
       "      <td>['\\nScreen Size:\\n15.6 Inch FHD\\n']</td>\n",
       "      <td>['\\nProcessor Model:\\ni7-1065G7\\n']</td>\n",
       "      <td>['\\nMain Memory:\\n8GB\\n']</td>\n",
       "      <td>['\\nInternal Storage:\\n256GB SSD\\n']</td>\n",
       "      <td>['\\nOperating System:\\nWindows 10 Home (64bit)...</td>\n",
       "    </tr>\n",
       "  </tbody>\n",
       "</table>\n",
       "</div>"
      ],
      "text/plain": [
       "        price                          screen_size  \\\n",
       "0    S$999.00      ['\\nScreen Size:\\n15.6 Inch\\n']   \n",
       "1  S$1,199.00      ['\\nScreen Size:\\n13.3 Inch\\n']   \n",
       "2  S$1,299.00  ['\\nScreen Size:\\n15.6 Inch FHD\\n']   \n",
       "\n",
       "                                           processor  \\\n",
       "0     ['\\nProcessor Model:\\nIntel Core i5-1035G4\\n']   \n",
       "1  ['\\nProcessor Model:\\n10th Gen Intel Core™ i5-...   \n",
       "2                ['\\nProcessor Model:\\ni7-1065G7\\n']   \n",
       "\n",
       "                           memory                                    storage  \\\n",
       "0  ['\\nMain Memory:\\n8GB DDR4\\n']  ['\\nInternal Storage:\\n512GB PCIE SSD\\n']   \n",
       "1       ['\\nMain Memory:\\n8GB\\n']  ['\\nInternal Storage:\\n512GB PCIe SSD\\n']   \n",
       "2       ['\\nMain Memory:\\n8GB\\n']       ['\\nInternal Storage:\\n256GB SSD\\n']   \n",
       "\n",
       "                                                  os  \n",
       "0          ['\\nOperating System:\\nWindow 10 Home\\n']  \n",
       "1        ['\\nOperating System:\\nWindows® 10 Home\\n']  \n",
       "2  ['\\nOperating System:\\nWindows 10 Home (64bit)...  "
      ]
     },
     "execution_count": 3,
     "metadata": {},
     "output_type": "execute_result"
    }
   ],
   "source": [
    "df.head(3)"
   ]
  },
  {
   "cell_type": "code",
   "execution_count": 4,
   "metadata": {},
   "outputs": [],
   "source": [
    "#\n",
    "df['price'] = df['price'].str.replace(r'.00', '')\n",
    "df['price'] = df['price'].str.replace(r'\\D+', '').astype(int)\n",
    "#\n",
    "df['storage'] = df['storage'].str.replace(r'1TB', '1024')\n",
    "df['storage'] = df['storage'].str.replace(r'M.2 SSD', '')\n",
    "df['storage'] = df['storage'].str.replace(r'M2 PCIE', '')\n",
    "df['storage'] = df['storage'].str.replace(r'\\D+', '').astype(int)\n",
    "#\n",
    "df['memory'] = df['memory'].str.replace(r'DDR4', '')\n",
    "df['memory'] = df['memory'].str.replace(r'DDR3', '')\n",
    "df['memory'] = df['memory'].str.replace(r'\\D+', '').astype(int)"
   ]
  },
  {
   "cell_type": "code",
   "execution_count": 5,
   "metadata": {},
   "outputs": [
    {
     "name": "stderr",
     "output_type": "stream",
     "text": [
      "C:\\Users\\storm\\anaconda3\\lib\\site-packages\\ipykernel_launcher.py:5: SettingWithCopyWarning: \n",
      "A value is trying to be set on a copy of a slice from a DataFrame\n",
      "\n",
      "See the caveats in the documentation: https://pandas.pydata.org/pandas-docs/stable/user_guide/indexing.html#returning-a-view-versus-a-copy\n",
      "  \"\"\"\n"
     ]
    }
   ],
   "source": [
    "df['screen_size'] = df['screen_size'].str.replace('3', '' ,regex = True)\n",
    "df['screen_size'] = df['screen_size'].str.replace('15.6', '15' ,regex = True)\n",
    "df['screen_size'] = df['screen_size'].str.replace(r'\\D+', '')\n",
    "df['screen_size'] = df['screen_size'].str.replace('0', '' ,regex = True).astype(int)\n",
    "df.screen_size[df.screen_size==1] = 13"
   ]
  },
  {
   "cell_type": "code",
   "execution_count": 6,
   "metadata": {},
   "outputs": [
    {
     "name": "stderr",
     "output_type": "stream",
     "text": [
      "C:\\Users\\storm\\anaconda3\\lib\\site-packages\\ipykernel_launcher.py:16: SettingWithCopyWarning: \n",
      "A value is trying to be set on a copy of a slice from a DataFrame\n",
      "\n",
      "See the caveats in the documentation: https://pandas.pydata.org/pandas-docs/stable/user_guide/indexing.html#returning-a-view-versus-a-copy\n",
      "  app.launch_new_instance()\n"
     ]
    }
   ],
   "source": [
    "df['processor'] = df['processor'].str.replace('-1035G4', '')\n",
    "df['processor'] = df['processor'].str.replace('1065G7', '')\n",
    "df['processor'] = df['processor'].str.replace('1035G1', '')\n",
    "df['processor'] = df['processor'].str.replace('10750H', '')\n",
    "df['processor'] = df['processor'].str.replace('10510U', '')\n",
    "df['processor'] = df['processor'].str.replace('10210U', '')\n",
    "df['processor'] = df['processor'].str.replace('9750H', '')\n",
    "df['processor'] = df['processor'].str.replace('8565U', '')\n",
    "df['processor'] = df['processor'].str.replace('1', '')\n",
    "df['processor'] = df['processor'].str.replace(r'\\D+', '')\n",
    "df['processor'] = df['processor'].str.replace('0357', '')\n",
    "df['processor'] = df['processor'].str.replace('26245', '')\n",
    "df['processor'] = df['processor'].str.replace('6426', '')\n",
    "df['processor'] = df['processor'].str.replace('0', '')\n",
    "df['processor'] = df['processor'].str.replace('8', '').astype(int)\n",
    "df.processor[df.processor ==4 ] = 5\n"
   ]
  },
  {
   "cell_type": "code",
   "execution_count": 7,
   "metadata": {},
   "outputs": [],
   "source": [
    "df['os'] = df['os'].str.replace('Window 10', '2')\n",
    "df['os'] = df['os'].str.replace('10 Home', '2')\n",
    "df['os'] = df['os'].str.replace('64', '')\n",
    "df['os'] = df['os'].str.replace('Windows 10', '2')\n",
    "df['os'] = df['os'].str.replace('Professional', '7')\n",
    "df['os'] = df['os'].str.replace(r'\\D+', '')\n",
    "df['os'] = df['os'].str.replace('27', 'pro')\n",
    "df['os'] = df['os'].str.replace('2', 'home')"
   ]
  },
  {
   "cell_type": "code",
   "execution_count": 8,
   "metadata": {},
   "outputs": [
    {
     "data": {
      "text/html": [
       "<div>\n",
       "<style scoped>\n",
       "    .dataframe tbody tr th:only-of-type {\n",
       "        vertical-align: middle;\n",
       "    }\n",
       "\n",
       "    .dataframe tbody tr th {\n",
       "        vertical-align: top;\n",
       "    }\n",
       "\n",
       "    .dataframe thead th {\n",
       "        text-align: right;\n",
       "    }\n",
       "</style>\n",
       "<table border=\"1\" class=\"dataframe\">\n",
       "  <thead>\n",
       "    <tr style=\"text-align: right;\">\n",
       "      <th></th>\n",
       "      <th>price</th>\n",
       "      <th>screen_size</th>\n",
       "      <th>processor</th>\n",
       "      <th>memory</th>\n",
       "      <th>storage</th>\n",
       "      <th>os</th>\n",
       "    </tr>\n",
       "  </thead>\n",
       "  <tbody>\n",
       "    <tr>\n",
       "      <th>0</th>\n",
       "      <td>999</td>\n",
       "      <td>15</td>\n",
       "      <td>5</td>\n",
       "      <td>8</td>\n",
       "      <td>512</td>\n",
       "      <td>home</td>\n",
       "    </tr>\n",
       "    <tr>\n",
       "      <th>1</th>\n",
       "      <td>1199</td>\n",
       "      <td>13</td>\n",
       "      <td>5</td>\n",
       "      <td>8</td>\n",
       "      <td>512</td>\n",
       "      <td>home</td>\n",
       "    </tr>\n",
       "    <tr>\n",
       "      <th>2</th>\n",
       "      <td>1299</td>\n",
       "      <td>15</td>\n",
       "      <td>7</td>\n",
       "      <td>8</td>\n",
       "      <td>256</td>\n",
       "      <td>home</td>\n",
       "    </tr>\n",
       "    <tr>\n",
       "      <th>3</th>\n",
       "      <td>1349</td>\n",
       "      <td>14</td>\n",
       "      <td>5</td>\n",
       "      <td>16</td>\n",
       "      <td>512</td>\n",
       "      <td>home</td>\n",
       "    </tr>\n",
       "    <tr>\n",
       "      <th>4</th>\n",
       "      <td>1399</td>\n",
       "      <td>13</td>\n",
       "      <td>7</td>\n",
       "      <td>8</td>\n",
       "      <td>512</td>\n",
       "      <td>home</td>\n",
       "    </tr>\n",
       "  </tbody>\n",
       "</table>\n",
       "</div>"
      ],
      "text/plain": [
       "   price  screen_size  processor  memory  storage    os\n",
       "0    999           15          5       8      512  home\n",
       "1   1199           13          5       8      512  home\n",
       "2   1299           15          7       8      256  home\n",
       "3   1349           14          5      16      512  home\n",
       "4   1399           13          7       8      512  home"
      ]
     },
     "execution_count": 8,
     "metadata": {},
     "output_type": "execute_result"
    }
   ],
   "source": [
    "df.head()"
   ]
  },
  {
   "cell_type": "code",
   "execution_count": 9,
   "metadata": {},
   "outputs": [],
   "source": [
    "df.to_excel (r'laptop_data_cleaned.xlsx', index = False, header=True)"
   ]
  },
  {
   "cell_type": "code",
   "execution_count": 10,
   "metadata": {
    "scrolled": true
   },
   "outputs": [
    {
     "name": "stdout",
     "output_type": "stream",
     "text": [
      "<class 'pandas.core.frame.DataFrame'>\n",
      "RangeIndex: 32 entries, 0 to 31\n",
      "Data columns (total 6 columns):\n",
      " #   Column       Non-Null Count  Dtype \n",
      "---  ------       --------------  ----- \n",
      " 0   price        32 non-null     int32 \n",
      " 1   screen_size  32 non-null     int32 \n",
      " 2   processor    32 non-null     int32 \n",
      " 3   memory       32 non-null     int32 \n",
      " 4   storage      32 non-null     int32 \n",
      " 5   os           32 non-null     object\n",
      "dtypes: int32(5), object(1)\n",
      "memory usage: 1.0+ KB\n"
     ]
    }
   ],
   "source": [
    "df.info()"
   ]
  },
  {
   "cell_type": "code",
   "execution_count": 11,
   "metadata": {},
   "outputs": [],
   "source": [
    "df = pd.get_dummies(df) \n"
   ]
  },
  {
   "cell_type": "code",
   "execution_count": 12,
   "metadata": {},
   "outputs": [
    {
     "data": {
      "text/html": [
       "<div>\n",
       "<style scoped>\n",
       "    .dataframe tbody tr th:only-of-type {\n",
       "        vertical-align: middle;\n",
       "    }\n",
       "\n",
       "    .dataframe tbody tr th {\n",
       "        vertical-align: top;\n",
       "    }\n",
       "\n",
       "    .dataframe thead th {\n",
       "        text-align: right;\n",
       "    }\n",
       "</style>\n",
       "<table border=\"1\" class=\"dataframe\">\n",
       "  <thead>\n",
       "    <tr style=\"text-align: right;\">\n",
       "      <th></th>\n",
       "      <th>price</th>\n",
       "      <th>screen_size</th>\n",
       "      <th>processor</th>\n",
       "      <th>memory</th>\n",
       "      <th>storage</th>\n",
       "      <th>os_home</th>\n",
       "      <th>os_pro</th>\n",
       "    </tr>\n",
       "  </thead>\n",
       "  <tbody>\n",
       "    <tr>\n",
       "      <th>0</th>\n",
       "      <td>999</td>\n",
       "      <td>15</td>\n",
       "      <td>5</td>\n",
       "      <td>8</td>\n",
       "      <td>512</td>\n",
       "      <td>1</td>\n",
       "      <td>0</td>\n",
       "    </tr>\n",
       "    <tr>\n",
       "      <th>1</th>\n",
       "      <td>1199</td>\n",
       "      <td>13</td>\n",
       "      <td>5</td>\n",
       "      <td>8</td>\n",
       "      <td>512</td>\n",
       "      <td>1</td>\n",
       "      <td>0</td>\n",
       "    </tr>\n",
       "    <tr>\n",
       "      <th>2</th>\n",
       "      <td>1299</td>\n",
       "      <td>15</td>\n",
       "      <td>7</td>\n",
       "      <td>8</td>\n",
       "      <td>256</td>\n",
       "      <td>1</td>\n",
       "      <td>0</td>\n",
       "    </tr>\n",
       "    <tr>\n",
       "      <th>3</th>\n",
       "      <td>1349</td>\n",
       "      <td>14</td>\n",
       "      <td>5</td>\n",
       "      <td>16</td>\n",
       "      <td>512</td>\n",
       "      <td>1</td>\n",
       "      <td>0</td>\n",
       "    </tr>\n",
       "    <tr>\n",
       "      <th>4</th>\n",
       "      <td>1399</td>\n",
       "      <td>13</td>\n",
       "      <td>7</td>\n",
       "      <td>8</td>\n",
       "      <td>512</td>\n",
       "      <td>1</td>\n",
       "      <td>0</td>\n",
       "    </tr>\n",
       "  </tbody>\n",
       "</table>\n",
       "</div>"
      ],
      "text/plain": [
       "   price  screen_size  processor  memory  storage  os_home  os_pro\n",
       "0    999           15          5       8      512        1       0\n",
       "1   1199           13          5       8      512        1       0\n",
       "2   1299           15          7       8      256        1       0\n",
       "3   1349           14          5      16      512        1       0\n",
       "4   1399           13          7       8      512        1       0"
      ]
     },
     "execution_count": 12,
     "metadata": {},
     "output_type": "execute_result"
    }
   ],
   "source": [
    "df.head()\n"
   ]
  },
  {
   "cell_type": "code",
   "execution_count": 13,
   "metadata": {},
   "outputs": [],
   "source": [
    "from sklearn.model_selection import train_test_split\n",
    "from sklearn.linear_model import LinearRegression, Ridge #ordinary linear regression + w/ ridge regularization\n",
    "from sklearn.preprocessing import StandardScaler, PolynomialFeatures\n",
    "from sklearn.model_selection import KFold\n",
    "from sklearn.model_selection import cross_val_score\n",
    "import numpy as np\n"
   ]
  },
  {
   "cell_type": "code",
   "execution_count": 14,
   "metadata": {},
   "outputs": [],
   "source": [
    "#Separate our features from our target & remove one dummy variable out\n",
    "\n",
    "X, y = df.drop(['price','os_home'],axis=1), df['price']\n",
    "\n",
    "#Split the data 60 - 20 - 20 train/val/test\n",
    "\n",
    "X_train_val, X_test, y_train_val, y_test = train_test_split(X, y, test_size=0.2,random_state=42)\n",
    "X_train, X_val, y_train, y_val = train_test_split(X_train_val, y_train_val, test_size=.25, random_state=43)\n"
   ]
  },
  {
   "cell_type": "code",
   "execution_count": 15,
   "metadata": {},
   "outputs": [
    {
     "name": "stdout",
     "output_type": "stream",
     "text": [
      "Linear Regression val R^2: -0.280\n"
     ]
    }
   ],
   "source": [
    "#set up the LM models: (initial benchmark) for validation with other model if there are\n",
    "\n",
    "lm = LinearRegression()\n",
    "\n",
    "lm.fit(X_train, y_train)\n",
    "print(f'Linear Regression val R^2: {lm.score(X_val, y_val):.3f}')"
   ]
  },
  {
   "cell_type": "code",
   "execution_count": 16,
   "metadata": {},
   "outputs": [
    {
     "name": "stdout",
     "output_type": "stream",
     "text": [
      "Linear Regression val R^2: -0.306\n"
     ]
    }
   ],
   "source": [
    "#retrain on the entire chunk of train/val data and see how it does on test data:\n",
    "\n",
    "lm = LinearRegression()\n",
    "\n",
    "lm.fit(X_train_val, y_train_val)\n",
    "print(f'Linear Regression val R^2: {lm.score(X_test, y_test):.3f}')"
   ]
  },
  {
   "cell_type": "code",
   "execution_count": 17,
   "metadata": {},
   "outputs": [
    {
     "data": {
      "text/html": [
       "<table class=\"simpletable\">\n",
       "<caption>OLS Regression Results</caption>\n",
       "<tr>\n",
       "  <th>Dep. Variable:</th>          <td>price</td>      <th>  R-squared (uncentered):</th>      <td>   0.964</td>\n",
       "</tr>\n",
       "<tr>\n",
       "  <th>Model:</th>                   <td>OLS</td>       <th>  Adj. R-squared (uncentered):</th> <td>   0.955</td>\n",
       "</tr>\n",
       "<tr>\n",
       "  <th>Method:</th>             <td>Least Squares</td>  <th>  F-statistic:       </th>          <td>   106.1</td>\n",
       "</tr>\n",
       "<tr>\n",
       "  <th>Date:</th>             <td>Tue, 19 May 2020</td> <th>  Prob (F-statistic):</th>          <td>1.08e-13</td>\n",
       "</tr>\n",
       "<tr>\n",
       "  <th>Time:</th>                 <td>02:15:29</td>     <th>  Log-Likelihood:    </th>          <td> -178.67</td>\n",
       "</tr>\n",
       "<tr>\n",
       "  <th>No. Observations:</th>      <td>    25</td>      <th>  AIC:               </th>          <td>   367.3</td>\n",
       "</tr>\n",
       "<tr>\n",
       "  <th>Df Residuals:</th>          <td>    20</td>      <th>  BIC:               </th>          <td>   373.4</td>\n",
       "</tr>\n",
       "<tr>\n",
       "  <th>Df Model:</th>              <td>     5</td>      <th>                     </th>              <td> </td>   \n",
       "</tr>\n",
       "<tr>\n",
       "  <th>Covariance Type:</th>      <td>nonrobust</td>    <th>                     </th>              <td> </td>   \n",
       "</tr>\n",
       "</table>\n",
       "<table class=\"simpletable\">\n",
       "<tr>\n",
       "       <td></td>          <th>coef</th>     <th>std err</th>      <th>t</th>      <th>P>|t|</th>  <th>[0.025</th>    <th>0.975]</th>  \n",
       "</tr>\n",
       "<tr>\n",
       "  <th>screen_size</th> <td>   58.5445</td> <td>   28.160</td> <td>    2.079</td> <td> 0.051</td> <td>   -0.197</td> <td>  117.286</td>\n",
       "</tr>\n",
       "<tr>\n",
       "  <th>processor</th>   <td>   68.4905</td> <td>   69.552</td> <td>    0.985</td> <td> 0.337</td> <td>  -76.591</td> <td>  213.572</td>\n",
       "</tr>\n",
       "<tr>\n",
       "  <th>memory</th>      <td>   32.6575</td> <td>   19.173</td> <td>    1.703</td> <td> 0.104</td> <td>   -7.336</td> <td>   72.651</td>\n",
       "</tr>\n",
       "<tr>\n",
       "  <th>storage</th>     <td>   -0.0579</td> <td>    0.257</td> <td>   -0.226</td> <td> 0.824</td> <td>   -0.593</td> <td>    0.477</td>\n",
       "</tr>\n",
       "<tr>\n",
       "  <th>os_pro</th>      <td>  106.0503</td> <td>  372.913</td> <td>    0.284</td> <td> 0.779</td> <td> -671.832</td> <td>  883.933</td>\n",
       "</tr>\n",
       "</table>\n",
       "<table class=\"simpletable\">\n",
       "<tr>\n",
       "  <th>Omnibus:</th>       <td>10.736</td> <th>  Durbin-Watson:     </th> <td>   2.337</td>\n",
       "</tr>\n",
       "<tr>\n",
       "  <th>Prob(Omnibus):</th> <td> 0.005</td> <th>  Jarque-Bera (JB):  </th> <td>   8.984</td>\n",
       "</tr>\n",
       "<tr>\n",
       "  <th>Skew:</th>          <td> 1.225</td> <th>  Prob(JB):          </th> <td>  0.0112</td>\n",
       "</tr>\n",
       "<tr>\n",
       "  <th>Kurtosis:</th>      <td> 4.619</td> <th>  Cond. No.          </th> <td>4.32e+03</td>\n",
       "</tr>\n",
       "</table><br/><br/>Warnings:<br/>[1] Standard Errors assume that the covariance matrix of the errors is correctly specified.<br/>[2] The condition number is large, 4.32e+03. This might indicate that there are<br/>strong multicollinearity or other numerical problems."
      ],
      "text/plain": [
       "<class 'statsmodels.iolib.summary.Summary'>\n",
       "\"\"\"\n",
       "                                 OLS Regression Results                                \n",
       "=======================================================================================\n",
       "Dep. Variable:                  price   R-squared (uncentered):                   0.964\n",
       "Model:                            OLS   Adj. R-squared (uncentered):              0.955\n",
       "Method:                 Least Squares   F-statistic:                              106.1\n",
       "Date:                Tue, 19 May 2020   Prob (F-statistic):                    1.08e-13\n",
       "Time:                        02:15:29   Log-Likelihood:                         -178.67\n",
       "No. Observations:                  25   AIC:                                      367.3\n",
       "Df Residuals:                      20   BIC:                                      373.4\n",
       "Df Model:                           5                                                  \n",
       "Covariance Type:            nonrobust                                                  \n",
       "===============================================================================\n",
       "                  coef    std err          t      P>|t|      [0.025      0.975]\n",
       "-------------------------------------------------------------------------------\n",
       "screen_size    58.5445     28.160      2.079      0.051      -0.197     117.286\n",
       "processor      68.4905     69.552      0.985      0.337     -76.591     213.572\n",
       "memory         32.6575     19.173      1.703      0.104      -7.336      72.651\n",
       "storage        -0.0579      0.257     -0.226      0.824      -0.593       0.477\n",
       "os_pro        106.0503    372.913      0.284      0.779    -671.832     883.933\n",
       "==============================================================================\n",
       "Omnibus:                       10.736   Durbin-Watson:                   2.337\n",
       "Prob(Omnibus):                  0.005   Jarque-Bera (JB):                8.984\n",
       "Skew:                           1.225   Prob(JB):                       0.0112\n",
       "Kurtosis:                       4.619   Cond. No.                     4.32e+03\n",
       "==============================================================================\n",
       "\n",
       "Warnings:\n",
       "[1] Standard Errors assume that the covariance matrix of the errors is correctly specified.\n",
       "[2] The condition number is large, 4.32e+03. This might indicate that there are\n",
       "strong multicollinearity or other numerical problems.\n",
       "\"\"\""
      ]
     },
     "execution_count": 17,
     "metadata": {},
     "output_type": "execute_result"
    }
   ],
   "source": [
    "model = sm.OLS(y_train_val, X_train_val)\n",
    "results = model.fit()\n",
    "\n",
    "results.summary()"
   ]
  },
  {
   "cell_type": "code",
   "execution_count": 18,
   "metadata": {},
   "outputs": [
    {
     "name": "stdout",
     "output_type": "stream",
     "text": [
      "29    1530.689729\n",
      "15    1285.299293\n",
      "24    1850.494248\n",
      "17    1364.081311\n",
      "8     1472.145183\n",
      "9     1472.145183\n",
      "30    1791.949703\n",
      "dtype: float64\n"
     ]
    }
   ],
   "source": [
    "ypred = results.predict(X_test)\n",
    "print(ypred)"
   ]
  },
  {
   "cell_type": "code",
   "execution_count": 19,
   "metadata": {},
   "outputs": [
    {
     "data": {
      "image/png": "[encoded data removed]",
      "text/plain": [
       "<Figure size 432x288 with 1 Axes>"
      ]
     },
     "metadata": {
      "needs_background": "light"
     },
     "output_type": "display_data"
    }
   ],
   "source": [
    "fig, ax = plt.subplots()\n",
    "ax.plot(X_test.screen_size, y_test, 'o', label=\"Data\")\n",
    "ax.plot(X_test.screen_size, ypred, 'b-', label=\"OLS prediction\")\n",
    "\n",
    "ax.legend(loc=\"best\");"
   ]
  },
  {
   "cell_type": "code",
   "execution_count": 20,
   "metadata": {},
   "outputs": [
    {
     "data": {
      "image/png": "[encoded data removed]",
      "text/plain": [
       "<Figure size 907.2x604.8 with 56 Axes>"
      ]
     },
     "metadata": {
      "needs_background": "light"
     },
     "output_type": "display_data"
    }
   ],
   "source": [
    "sns.pairplot(df, height=1.2, aspect=1.5);"
   ]
  },
  {
   "cell_type": "code",
   "execution_count": 21,
   "metadata": {},
   "outputs": [
    {
     "data": {
      "image/png": "[encoded data removed]",
      "text/plain": [
       "<Figure size 432x288 with 2 Axes>"
      ]
     },
     "metadata": {
      "needs_background": "light"
     },
     "output_type": "display_data"
    }
   ],
   "source": [
    "sns.heatmap(df.corr(), cmap=\"seismic\", annot=True, vmin=-1, vmax=1);\n",
    "plt.savefig(\"project2_corr_heatmap\")"
   ]
  },
  {
   "cell_type": "code",
   "execution_count": 22,
   "metadata": {},
   "outputs": [
    {
     "data": {
      "text/html": [
       "<div>\n",
       "<style scoped>\n",
       "    .dataframe tbody tr th:only-of-type {\n",
       "        vertical-align: middle;\n",
       "    }\n",
       "\n",
       "    .dataframe tbody tr th {\n",
       "        vertical-align: top;\n",
       "    }\n",
       "\n",
       "    .dataframe thead th {\n",
       "        text-align: right;\n",
       "    }\n",
       "</style>\n",
       "<table border=\"1\" class=\"dataframe\">\n",
       "  <thead>\n",
       "    <tr style=\"text-align: right;\">\n",
       "      <th></th>\n",
       "      <th>price</th>\n",
       "      <th>screen_size</th>\n",
       "      <th>processor</th>\n",
       "      <th>memory</th>\n",
       "      <th>storage</th>\n",
       "      <th>os_home</th>\n",
       "      <th>os_pro</th>\n",
       "    </tr>\n",
       "  </thead>\n",
       "  <tbody>\n",
       "    <tr>\n",
       "      <th>price</th>\n",
       "      <td>1.000000</td>\n",
       "      <td>0.018354</td>\n",
       "      <td>0.530683</td>\n",
       "      <td>0.275632</td>\n",
       "      <td>-0.056797</td>\n",
       "      <td>-0.076885</td>\n",
       "      <td>0.076885</td>\n",
       "    </tr>\n",
       "    <tr>\n",
       "      <th>screen_size</th>\n",
       "      <td>0.018354</td>\n",
       "      <td>1.000000</td>\n",
       "      <td>-0.159364</td>\n",
       "      <td>0.077303</td>\n",
       "      <td>-0.181388</td>\n",
       "      <td>0.000000</td>\n",
       "      <td>0.000000</td>\n",
       "    </tr>\n",
       "    <tr>\n",
       "      <th>processor</th>\n",
       "      <td>0.530683</td>\n",
       "      <td>-0.159364</td>\n",
       "      <td>1.000000</td>\n",
       "      <td>0.365728</td>\n",
       "      <td>-0.012647</td>\n",
       "      <td>-0.158397</td>\n",
       "      <td>0.158397</td>\n",
       "    </tr>\n",
       "    <tr>\n",
       "      <th>memory</th>\n",
       "      <td>0.275632</td>\n",
       "      <td>0.077303</td>\n",
       "      <td>0.365728</td>\n",
       "      <td>1.000000</td>\n",
       "      <td>0.200249</td>\n",
       "      <td>-0.214037</td>\n",
       "      <td>0.214037</td>\n",
       "    </tr>\n",
       "    <tr>\n",
       "      <th>storage</th>\n",
       "      <td>-0.056797</td>\n",
       "      <td>-0.181388</td>\n",
       "      <td>-0.012647</td>\n",
       "      <td>0.200249</td>\n",
       "      <td>1.000000</td>\n",
       "      <td>0.121050</td>\n",
       "      <td>-0.121050</td>\n",
       "    </tr>\n",
       "    <tr>\n",
       "      <th>os_home</th>\n",
       "      <td>-0.076885</td>\n",
       "      <td>0.000000</td>\n",
       "      <td>-0.158397</td>\n",
       "      <td>-0.214037</td>\n",
       "      <td>0.121050</td>\n",
       "      <td>1.000000</td>\n",
       "      <td>-1.000000</td>\n",
       "    </tr>\n",
       "    <tr>\n",
       "      <th>os_pro</th>\n",
       "      <td>0.076885</td>\n",
       "      <td>0.000000</td>\n",
       "      <td>0.158397</td>\n",
       "      <td>0.214037</td>\n",
       "      <td>-0.121050</td>\n",
       "      <td>-1.000000</td>\n",
       "      <td>1.000000</td>\n",
       "    </tr>\n",
       "  </tbody>\n",
       "</table>\n",
       "</div>"
      ],
      "text/plain": [
       "                price  screen_size  processor    memory   storage   os_home  \\\n",
       "price        1.000000     0.018354   0.530683  0.275632 -0.056797 -0.076885   \n",
       "screen_size  0.018354     1.000000  -0.159364  0.077303 -0.181388  0.000000   \n",
       "processor    0.530683    -0.159364   1.000000  0.365728 -0.012647 -0.158397   \n",
       "memory       0.275632     0.077303   0.365728  1.000000  0.200249 -0.214037   \n",
       "storage     -0.056797    -0.181388  -0.012647  0.200249  1.000000  0.121050   \n",
       "os_home     -0.076885     0.000000  -0.158397 -0.214037  0.121050  1.000000   \n",
       "os_pro       0.076885     0.000000   0.158397  0.214037 -0.121050 -1.000000   \n",
       "\n",
       "               os_pro  \n",
       "price        0.076885  \n",
       "screen_size  0.000000  \n",
       "processor    0.158397  \n",
       "memory       0.214037  \n",
       "storage     -0.121050  \n",
       "os_home     -1.000000  \n",
       "os_pro       1.000000  "
      ]
     },
     "execution_count": 22,
     "metadata": {},
     "output_type": "execute_result"
    }
   ],
   "source": [
    "df.corr()"
   ]
  },
  {
   "cell_type": "code",
   "execution_count": 23,
   "metadata": {},
   "outputs": [
    {
     "data": {
      "image/png": "[encoded data removed]",
      "text/plain": [
       "<Figure size 864x576 with 1 Axes>"
      ]
     },
     "metadata": {
      "needs_background": "light"
     },
     "output_type": "display_data"
    }
   ],
   "source": [
    "# Use statsmodels to plot the residuals vs the fitted values\n",
    "\n",
    "plt.figure(figsize=(12,8))\n",
    "plt.scatter(results.predict(), results.resid);"
   ]
  },
  {
   "cell_type": "code",
   "execution_count": null,
   "metadata": {},
   "outputs": [],
   "source": []
  }
 ],
 "metadata": {
  "kernelspec": {
   "display_name": "Python 3",
   "language": "python",
   "name": "python3"
  },
  "language_info": {
   "codemirror_mode": {
    "name": "ipython",
    "version": 3
   },
   "file_extension": ".py",
   "mimetype": "text/x-python",
   "name": "python",
   "nbconvert_exporter": "python",
   "pygments_lexer": "ipython3",
   "version": "3.7.6"
  }
 },
 "nbformat": 4,
 "nbformat_minor": 4
}
