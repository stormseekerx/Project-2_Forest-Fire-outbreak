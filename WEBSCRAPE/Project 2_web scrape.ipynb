{
 "cells": [
  {
   "cell_type": "code",
   "execution_count": 1,
   "metadata": {},
   "outputs": [],
   "source": [
    "from bs4 import BeautifulSoup\n",
    "import requests"
   ]
  },
  {
   "cell_type": "code",
   "execution_count": 2,
   "metadata": {},
   "outputs": [],
   "source": [
    "url = \"https://www.courts.com.sg/computing-mobile/laptops/all-laptops?type1=Windows+Laptop&product_list_limit=32\"\n",
    "\n",
    "response = requests.get(url)"
   ]
  },
  {
   "cell_type": "code",
   "execution_count": 3,
   "metadata": {},
   "outputs": [],
   "source": [
    "page = response.text\n",
    "soup = BeautifulSoup(page, \"lxml\")"
   ]
  },
  {
   "cell_type": "code",
   "execution_count": 4,
   "metadata": {},
   "outputs": [],
   "source": [
    "pc_data3=[]\n",
    "\n",
    "for div in soup.find_all('div', class_='product-item-info'):\n",
    "    pc_data2=[]\n",
    "    for link in div.find_all('li'):\n",
    "        pc_data1=[]\n",
    "        pc_data1.append(link.text)        \n",
    "        pc_data2.append(pc_data1)\n",
    "    pc_data3.append(pc_data2)\n",
    "    "
   ]
  },
  {
   "cell_type": "code",
   "execution_count": 5,
   "metadata": {},
   "outputs": [
    {
     "name": "stdout",
     "output_type": "stream",
     "text": [
      "[[['\\nScreen Size:\\n15.6 Inch\\n'], ['\\nProcessor Model:\\nIntel Core i5-1035G4\\n'], ['\\nMain Memory:\\n8GB DDR4\\n'], ['\\nInternal Storage:\\n512GB PCIE SSD\\n'], ['\\nOperating System:\\nWindow 10 Home\\n']], [['\\nScreen Size:\\n13.3 Inch\\n'], ['\\nProcessor Model:\\n10th Gen Intel Core™ i5-1035G1\\n'], ['\\nMain Memory:\\n8GB\\n'], ['\\nInternal Storage:\\n512GB PCIe SSD\\n'], ['\\nOperating System:\\nWindows® 10 Home\\n']], [['\\nScreen Size:\\n15.6 Inch FHD\\n'], ['\\nProcessor Model:\\ni7-1065G7\\n'], ['\\nMain Memory:\\n8GB\\n'], ['\\nInternal Storage:\\n256GB SSD\\n'], ['\\nOperating System:\\nWindows 10 Home (64bit)\\n']], [['\\nScreen Size:\\n14 Inch\\n'], ['\\nProcessor Model:\\nIntel Core i5-1035G1\\n'], ['\\nMain Memory:\\n16GB DDR4\\n'], ['\\nInternal Storage:\\n512GB PCIE SSD\\n'], ['\\nOperating System:\\nWindow 10 Home\\n']], [['\\nScreen Size:\\n13.3 Inch\\n'], ['\\nProcessor Model:\\n10th Gen Intel Core™ i7-1065G7\\n'], ['\\nMain Memory:\\n8GB\\n'], ['\\nInternal Storage:\\n512GB PCIe SSD\\n'], ['\\nOperating System:\\nWindows® 10 Home\\n']], [['\\nScreen Size:\\n14 Inch\\n'], ['\\nProcessor Model:\\nIntel Core i7-1065G7\\n'], ['\\nMain Memory:\\n16GB DDR4\\n'], ['\\nInternal Storage:\\n512GB PCIE SSD\\n'], ['\\nOperating System:\\nWindow 10 Home\\n']], [['\\nScreen Size:\\n14 Inch\\n'], ['\\nProcessor Model:\\nIntel Core I7-1065G7\\n'], ['\\nMain Memory:\\n16GB\\n'], ['\\nInternal Storage:\\n1TB SSD\\n'], ['\\nOperating System:\\nWindows 10\\n']], [['\\nScreen Size:\\n15.6 Inch\\n'], ['\\nProcessor Model:\\nIntel Core i7-10750H\\n'], ['\\nMain Memory:\\n16GB DDR4\\n'], ['\\nInternal Storage:\\n512GB PCIE SSD\\n'], ['\\nOperating System:\\nWindow 10 Home\\n']], [['\\nScreen Size:\\n13.3\\n'], ['\\nProcessor Model:\\ni7-10510U\\n'], ['\\nMain Memory:\\n8GB\\n'], ['\\nInternal Storage:\\n512GB SSD\\n'], ['\\nOperating System:\\nWindows 10 Pro\\n']], [['\\nScreen Size:\\n13.3\\n'], ['\\nProcessor Model:\\ni7-10510U\\n'], ['\\nMain Memory:\\n8GB\\n'], ['\\nInternal Storage:\\n512GB SSD\\n'], ['\\nOperating System:\\nWindows 10 Pro\\n']], [['\\nScreen Size:\\n14 Inch\\n'], ['\\nProcessor Model:\\nIntel Core I5-10210U\\n'], ['\\nMain Memory:\\n8GB\\n'], ['\\nInternal Storage:\\n1TB SSD\\n'], ['\\nOperating System:\\nWindow 10 Home\\n']], [['\\nScreen Size:\\n14 Inch FHD\\n'], ['\\nProcessor Model:\\nIntel Core I5-1035G1\\n'], ['\\nMain Memory:\\n16GB\\n'], ['\\nInternal Storage:\\n1TB SSD\\n'], ['\\nOperating System:\\nWindow 10 Home\\n']], [['\\nScreen Size:\\n14 Inch FHD\\n'], ['\\nProcessor Model:\\nIntel Core I7-1065G7\\n'], ['\\nMain Memory:\\n8GB\\n'], ['\\nInternal Storage:\\n1TB SSD\\n'], ['\\nOperating System:\\nWindow 10 Home\\n']], [['\\nScreen Size:\\n14 Inch FHD\\n'], ['\\nProcessor Model:\\nIntel Core I7-1065G7\\n'], ['\\nMain Memory:\\n16GB\\n'], ['\\nInternal Storage:\\n1TB SSD\\n'], ['\\nOperating System:\\nWindow 10 Home\\n']], [['\\nScreen Size:\\n14 Inch FHD\\n'], ['\\nProcessor Model:\\nIntel Core I7-1065G7\\n'], ['\\nMain Memory:\\n16GB\\n'], ['\\nInternal Storage:\\n1TB SSD\\n'], ['\\nOperating System:\\nWindow 10 Home\\n']], [['\\nScreen Size:\\n14IN HD\\n'], ['\\nProcessor Model:\\nIntel Celeron DC N4000\\n'], ['\\nMain Memory:\\n4GB\\n'], ['\\nInternal Storage:\\n128GB SSD\\n'], ['\\nOperating System:\\nWindows 10\\n']], [['\\nScreen Size:\\n14 Inch HD\\n'], ['\\nProcessor Model:\\nIntel Core I5-10210U\\n'], ['\\nMain Memory:\\n8GB\\n'], ['\\nInternal Storage:\\n512GB SSD\\n'], ['\\nOperating System:\\nWindow 10 Home\\n']], [['\\nScreen Size:\\n14 Inch HD\\n'], ['\\nProcessor Model:\\nIntel Core I5-10210U\\n'], ['\\nMain Memory:\\n8GB\\n'], ['\\nInternal Storage:\\n1TB SSD\\n'], ['\\nOperating System:\\nWindow 10 Home\\n']], [['\\nScreen Size:\\n14 Inch FHD\\n'], ['\\nProcessor Model:\\nIntel Core I5-1035G1\\n'], ['\\nMain Memory:\\n8GB\\n'], ['\\nInternal Storage:\\n1TB SSD\\n'], ['\\nOperating System:\\nWindow 10 Home\\n']], [['\\nScreen Size:\\n13.3 Inch\\n'], ['\\nProcessor Model:\\nIntel Core i5-10210U\\n'], ['\\nMain Memory:\\n8GB LDDR3\\n'], ['\\nInternal Storage:\\n1TB PCIE SSD\\n'], ['\\nOperating System:\\nWindow 10 Home\\n']], [['\\nScreen Size:\\n14 Inch\\n'], ['\\nProcessor Model:\\nIntel Core i7-10510U\\n'], ['\\nMain Memory:\\n8GB DDR4\\n'], ['\\nInternal Storage:\\n1TB PCIE SSD\\n'], ['\\nOperating System:\\nWindows 10 Home\\n']], [['\\nScreen Size:\\n14 Inch\\n'], ['\\nProcessor Model:\\nIntel Core i5-1035G1\\n'], ['\\nMain Memory:\\n16GB DDR4\\n'], ['\\nInternal Storage:\\n1TB PCIE SSD\\n'], ['\\nOperating System:\\nWindow 10 Home\\n']], [['\\nScreen Size:\\n14.0 Inch 3-Sided Micro Edge bezel WLED-backlit simultaneous pen3 and touch edge-to-edge glass\\n'], ['\\nProcessor Model:\\n10th Gen. Intel Core i5-10210U quad-core (1.6 GHz, up to 4.2 GHz, 6MB cache)\\n'], ['\\nMain Memory:\\n8GB\\n'], ['\\nInternal Storage:\\n512GB PCIe SSD\\n'], ['\\nOperating System:\\nWindows 10 Home\\n']], [['\\nScreen Size:\\n13.3 Inch\\n'], ['\\nProcessor Model:\\nIntel Core i7-10510U\\n'], ['\\nMain Memory:\\n8GB LDDR3\\n'], ['\\nInternal Storage:\\n1TB PCIE SSD\\n'], ['\\nOperating System:\\nWindow 10 Home\\n']], [['\\nScreen Size:\\n15.6 Inch\\n'], ['\\nProcessor Model:\\nIntel® Core™ i7-9750H Processor 2.6 GHz (12M Cache, up to 4.5 GHz)\\n'], ['\\nMain Memory:\\nDDR4 16GB\\n'], ['\\nInternal Storage:\\n512GB PCIE NVME SSD\\n'], ['\\nOperating System:\\nWindows 10 (64bit)\\n']], [['\\nScreen Size:\\n13.3 Inch FHD IPS Touch\\n'], ['\\nProcessor Model:\\nIntel Core i7-10510U\\n'], ['\\nMain Memory:\\n16GB DDR4\\n'], ['\\nInternal Storage:\\n512GB M2 PCIE\\n'], ['\\nOperating System:\\nWindow 10 Home\\n']], [['\\nScreen Size:\\n14.0 Inch\\n'], ['\\nProcessor Model:\\nIntel Core i7-10510U\\n'], ['\\nMain Memory:\\nLPDDR3 16GB on board\\n'], ['\\nInternal Storage:\\n512GB NVME M.2 SSD\\n'], ['\\nOperating System:\\nWindows 10 Professional (64bit)\\n']], [['\\nScreen Size:\\n14 Inch\\n'], ['\\nProcessor Model:\\n10th Gen Intel Core i5-1035G7\\n'], ['\\nMain Memory:\\n8GB RAM\\n'], ['\\nInternal Storage:\\n512GB NVMe™ SSD\\n'], ['\\nOperating System:\\nWindow 10 Home\\n']], [['\\nScreen Size:\\n14 Inch\\n'], ['\\nProcessor Model:\\nIntel Core i7-10510U\\n'], ['\\nMain Memory:\\n16GB DDR4\\n'], ['\\nInternal Storage:\\n1TB PCIE SSD\\n'], ['\\nOperating System:\\nWindows 10 Home\\n']], [['\\nScreen Size:\\n14 Inch\\n'], ['\\nProcessor Model:\\n10th Gen Intel Core i7-1065G7\\n'], ['\\nMain Memory:\\n8GB RAM\\n'], ['\\nInternal Storage:\\n512GB NVMe™ SSD\\n'], ['\\nOperating System:\\nWindow 10 Home\\n']], [['\\nScreen Size:\\n14 Inch\\n'], ['\\nProcessor Model:\\nIntel Core i7-8565U Processor 1.8 GHz\\n'], ['\\nMain Memory:\\n16GB DDR4\\n'], ['\\nInternal Storage:\\n512GB SSD PCIE\\n'], ['\\nOperating System:\\nWindows 10\\n']], [['\\nScreen Size:\\n17 Inch\\n'], ['\\nProcessor Model:\\n10th Gen Intel Core i5-1035G7\\n'], ['\\nMain Memory:\\n8GB RAM\\n'], ['\\nInternal Storage:\\n512GB NVMe™ SSD\\n'], ['\\nOperating System:\\nWindow 10 Home\\n']]]\n"
     ]
    }
   ],
   "source": [
    "print(pc_data3)"
   ]
  },
  {
   "cell_type": "code",
   "execution_count": 6,
   "metadata": {},
   "outputs": [],
   "source": [
    "import pandas as pd"
   ]
  },
  {
   "cell_type": "code",
   "execution_count": 7,
   "metadata": {},
   "outputs": [],
   "source": [
    "table = pd.DataFrame(pc_data3)\n",
    "table.to_csv('test.csv')"
   ]
  },
  {
   "cell_type": "code",
   "execution_count": 8,
   "metadata": {},
   "outputs": [],
   "source": [
    "pc_data4=[]\n",
    "\n",
    "for div in soup.find_all('div', class_='product-item-info'):\n",
    "    for link in div.find_all(attrs={\"data-price-type\": \"finalPrice\"}):  #since tag contain hyphen, have to use different coding approach\n",
    "        pc_data4.append(link.text)"
   ]
  },
  {
   "cell_type": "code",
   "execution_count": 9,
   "metadata": {},
   "outputs": [
    {
     "name": "stdout",
     "output_type": "stream",
     "text": [
      "['S$999.00', 'S$1,199.00', 'S$1,299.00', 'S$1,349.00', 'S$1,399.00', 'S$1,599.00', 'S$1,798.00', 'S$1,899.00', 'S$2,939.00', 'S$2,999.00', 'S$1,098.00', 'S$1,448.00', 'S$1,548.00', 'S$2,098.00', 'S$2,098.00', 'S$448.00', 'S$998.00', 'S$1,148.00', 'S$1,198.00', 'S$1,299.00', 'S$1,299.00', 'S$1,399.00', 'S$1,449.00', 'S$1,499.00', 'S$1,698.00', 'S$1,799.00', 'S$1,898.00', 'S$1,999.00', 'S$1,999.00', 'S$2,299.00', 'S$2,398.00', 'S$2,499.00']\n"
     ]
    }
   ],
   "source": [
    "print(pc_data4)"
   ]
  },
  {
   "cell_type": "code",
   "execution_count": 10,
   "metadata": {},
   "outputs": [],
   "source": [
    "table2 = pd.DataFrame(pc_data4)\n",
    "table2.to_csv('test2.csv')"
   ]
  },
  {
   "cell_type": "code",
   "execution_count": 11,
   "metadata": {},
   "outputs": [],
   "source": [
    "laptop_data = pd.concat([table2, table], axis=1)\n",
    "        \n"
   ]
  },
  {
   "cell_type": "code",
   "execution_count": 12,
   "metadata": {},
   "outputs": [
    {
     "data": {
      "text/html": [
       "<div>\n",
       "<style scoped>\n",
       "    .dataframe tbody tr th:only-of-type {\n",
       "        vertical-align: middle;\n",
       "    }\n",
       "\n",
       "    .dataframe tbody tr th {\n",
       "        vertical-align: top;\n",
       "    }\n",
       "\n",
       "    .dataframe thead th {\n",
       "        text-align: right;\n",
       "    }\n",
       "</style>\n",
       "<table border=\"1\" class=\"dataframe\">\n",
       "  <thead>\n",
       "    <tr style=\"text-align: right;\">\n",
       "      <th></th>\n",
       "      <th>0</th>\n",
       "      <th>0</th>\n",
       "      <th>1</th>\n",
       "      <th>2</th>\n",
       "      <th>3</th>\n",
       "      <th>4</th>\n",
       "    </tr>\n",
       "  </thead>\n",
       "  <tbody>\n",
       "    <tr>\n",
       "      <th>0</th>\n",
       "      <td>S$999.00</td>\n",
       "      <td>[\\nScreen Size:\\n15.6 Inch\\n]</td>\n",
       "      <td>[\\nProcessor Model:\\nIntel Core i5-1035G4\\n]</td>\n",
       "      <td>[\\nMain Memory:\\n8GB DDR4\\n]</td>\n",
       "      <td>[\\nInternal Storage:\\n512GB PCIE SSD\\n]</td>\n",
       "      <td>[\\nOperating System:\\nWindow 10 Home\\n]</td>\n",
       "    </tr>\n",
       "    <tr>\n",
       "      <th>1</th>\n",
       "      <td>S$1,199.00</td>\n",
       "      <td>[\\nScreen Size:\\n13.3 Inch\\n]</td>\n",
       "      <td>[\\nProcessor Model:\\n10th Gen Intel Core™ i5-1...</td>\n",
       "      <td>[\\nMain Memory:\\n8GB\\n]</td>\n",
       "      <td>[\\nInternal Storage:\\n512GB PCIe SSD\\n]</td>\n",
       "      <td>[\\nOperating System:\\nWindows® 10 Home\\n]</td>\n",
       "    </tr>\n",
       "    <tr>\n",
       "      <th>2</th>\n",
       "      <td>S$1,299.00</td>\n",
       "      <td>[\\nScreen Size:\\n15.6 Inch FHD\\n]</td>\n",
       "      <td>[\\nProcessor Model:\\ni7-1065G7\\n]</td>\n",
       "      <td>[\\nMain Memory:\\n8GB\\n]</td>\n",
       "      <td>[\\nInternal Storage:\\n256GB SSD\\n]</td>\n",
       "      <td>[\\nOperating System:\\nWindows 10 Home (64bit)\\n]</td>\n",
       "    </tr>\n",
       "    <tr>\n",
       "      <th>3</th>\n",
       "      <td>S$1,349.00</td>\n",
       "      <td>[\\nScreen Size:\\n14 Inch\\n]</td>\n",
       "      <td>[\\nProcessor Model:\\nIntel Core i5-1035G1\\n]</td>\n",
       "      <td>[\\nMain Memory:\\n16GB DDR4\\n]</td>\n",
       "      <td>[\\nInternal Storage:\\n512GB PCIE SSD\\n]</td>\n",
       "      <td>[\\nOperating System:\\nWindow 10 Home\\n]</td>\n",
       "    </tr>\n",
       "    <tr>\n",
       "      <th>4</th>\n",
       "      <td>S$1,399.00</td>\n",
       "      <td>[\\nScreen Size:\\n13.3 Inch\\n]</td>\n",
       "      <td>[\\nProcessor Model:\\n10th Gen Intel Core™ i7-1...</td>\n",
       "      <td>[\\nMain Memory:\\n8GB\\n]</td>\n",
       "      <td>[\\nInternal Storage:\\n512GB PCIe SSD\\n]</td>\n",
       "      <td>[\\nOperating System:\\nWindows® 10 Home\\n]</td>\n",
       "    </tr>\n",
       "  </tbody>\n",
       "</table>\n",
       "</div>"
      ],
      "text/plain": [
       "            0                                  0  \\\n",
       "0    S$999.00      [\\nScreen Size:\\n15.6 Inch\\n]   \n",
       "1  S$1,199.00      [\\nScreen Size:\\n13.3 Inch\\n]   \n",
       "2  S$1,299.00  [\\nScreen Size:\\n15.6 Inch FHD\\n]   \n",
       "3  S$1,349.00        [\\nScreen Size:\\n14 Inch\\n]   \n",
       "4  S$1,399.00      [\\nScreen Size:\\n13.3 Inch\\n]   \n",
       "\n",
       "                                                   1  \\\n",
       "0       [\\nProcessor Model:\\nIntel Core i5-1035G4\\n]   \n",
       "1  [\\nProcessor Model:\\n10th Gen Intel Core™ i5-1...   \n",
       "2                  [\\nProcessor Model:\\ni7-1065G7\\n]   \n",
       "3       [\\nProcessor Model:\\nIntel Core i5-1035G1\\n]   \n",
       "4  [\\nProcessor Model:\\n10th Gen Intel Core™ i7-1...   \n",
       "\n",
       "                               2                                        3  \\\n",
       "0   [\\nMain Memory:\\n8GB DDR4\\n]  [\\nInternal Storage:\\n512GB PCIE SSD\\n]   \n",
       "1        [\\nMain Memory:\\n8GB\\n]  [\\nInternal Storage:\\n512GB PCIe SSD\\n]   \n",
       "2        [\\nMain Memory:\\n8GB\\n]       [\\nInternal Storage:\\n256GB SSD\\n]   \n",
       "3  [\\nMain Memory:\\n16GB DDR4\\n]  [\\nInternal Storage:\\n512GB PCIE SSD\\n]   \n",
       "4        [\\nMain Memory:\\n8GB\\n]  [\\nInternal Storage:\\n512GB PCIe SSD\\n]   \n",
       "\n",
       "                                                  4  \n",
       "0           [\\nOperating System:\\nWindow 10 Home\\n]  \n",
       "1         [\\nOperating System:\\nWindows® 10 Home\\n]  \n",
       "2  [\\nOperating System:\\nWindows 10 Home (64bit)\\n]  \n",
       "3           [\\nOperating System:\\nWindow 10 Home\\n]  \n",
       "4         [\\nOperating System:\\nWindows® 10 Home\\n]  "
      ]
     },
     "execution_count": 12,
     "metadata": {},
     "output_type": "execute_result"
    }
   ],
   "source": [
    "laptop_data.head()"
   ]
  },
  {
   "cell_type": "code",
   "execution_count": 13,
   "metadata": {},
   "outputs": [
    {
     "ename": "PermissionError",
     "evalue": "[Errno 13] Permission denied: 'laptop_data.csv'",
     "output_type": "error",
     "traceback": [
      "\u001b[1;31m---------------------------------------------------------------------------\u001b[0m",
      "\u001b[1;31mPermissionError\u001b[0m                           Traceback (most recent call last)",
      "\u001b[1;32m<ipython-input-13-011ab3698834>\u001b[0m in \u001b[0;36m<module>\u001b[1;34m\u001b[0m\n\u001b[1;32m----> 1\u001b[1;33m \u001b[0mlaptop_data\u001b[0m\u001b[1;33m.\u001b[0m\u001b[0mto_csv\u001b[0m\u001b[1;33m(\u001b[0m\u001b[1;34m'laptop_data.csv'\u001b[0m\u001b[1;33m)\u001b[0m\u001b[1;33m\u001b[0m\u001b[1;33m\u001b[0m\u001b[0m\n\u001b[0m",
      "\u001b[1;32m~\\anaconda3\\lib\\site-packages\\pandas\\core\\generic.py\u001b[0m in \u001b[0;36mto_csv\u001b[1;34m(self, path_or_buf, sep, na_rep, float_format, columns, header, index, index_label, mode, encoding, compression, quoting, quotechar, line_terminator, chunksize, date_format, doublequote, escapechar, decimal)\u001b[0m\n\u001b[0;32m   3202\u001b[0m             \u001b[0mdecimal\u001b[0m\u001b[1;33m=\u001b[0m\u001b[0mdecimal\u001b[0m\u001b[1;33m,\u001b[0m\u001b[1;33m\u001b[0m\u001b[1;33m\u001b[0m\u001b[0m\n\u001b[0;32m   3203\u001b[0m         )\n\u001b[1;32m-> 3204\u001b[1;33m         \u001b[0mformatter\u001b[0m\u001b[1;33m.\u001b[0m\u001b[0msave\u001b[0m\u001b[1;33m(\u001b[0m\u001b[1;33m)\u001b[0m\u001b[1;33m\u001b[0m\u001b[1;33m\u001b[0m\u001b[0m\n\u001b[0m\u001b[0;32m   3205\u001b[0m \u001b[1;33m\u001b[0m\u001b[0m\n\u001b[0;32m   3206\u001b[0m         \u001b[1;32mif\u001b[0m \u001b[0mpath_or_buf\u001b[0m \u001b[1;32mis\u001b[0m \u001b[1;32mNone\u001b[0m\u001b[1;33m:\u001b[0m\u001b[1;33m\u001b[0m\u001b[1;33m\u001b[0m\u001b[0m\n",
      "\u001b[1;32m~\\anaconda3\\lib\\site-packages\\pandas\\io\\formats\\csvs.py\u001b[0m in \u001b[0;36msave\u001b[1;34m(self)\u001b[0m\n\u001b[0;32m    186\u001b[0m                 \u001b[0mself\u001b[0m\u001b[1;33m.\u001b[0m\u001b[0mmode\u001b[0m\u001b[1;33m,\u001b[0m\u001b[1;33m\u001b[0m\u001b[1;33m\u001b[0m\u001b[0m\n\u001b[0;32m    187\u001b[0m                 \u001b[0mencoding\u001b[0m\u001b[1;33m=\u001b[0m\u001b[0mself\u001b[0m\u001b[1;33m.\u001b[0m\u001b[0mencoding\u001b[0m\u001b[1;33m,\u001b[0m\u001b[1;33m\u001b[0m\u001b[1;33m\u001b[0m\u001b[0m\n\u001b[1;32m--> 188\u001b[1;33m                 \u001b[0mcompression\u001b[0m\u001b[1;33m=\u001b[0m\u001b[0mdict\u001b[0m\u001b[1;33m(\u001b[0m\u001b[0mself\u001b[0m\u001b[1;33m.\u001b[0m\u001b[0mcompression_args\u001b[0m\u001b[1;33m,\u001b[0m \u001b[0mmethod\u001b[0m\u001b[1;33m=\u001b[0m\u001b[0mself\u001b[0m\u001b[1;33m.\u001b[0m\u001b[0mcompression\u001b[0m\u001b[1;33m)\u001b[0m\u001b[1;33m,\u001b[0m\u001b[1;33m\u001b[0m\u001b[1;33m\u001b[0m\u001b[0m\n\u001b[0m\u001b[0;32m    189\u001b[0m             )\n\u001b[0;32m    190\u001b[0m             \u001b[0mclose\u001b[0m \u001b[1;33m=\u001b[0m \u001b[1;32mTrue\u001b[0m\u001b[1;33m\u001b[0m\u001b[1;33m\u001b[0m\u001b[0m\n",
      "\u001b[1;32m~\\anaconda3\\lib\\site-packages\\pandas\\io\\common.py\u001b[0m in \u001b[0;36mget_handle\u001b[1;34m(path_or_buf, mode, encoding, compression, memory_map, is_text)\u001b[0m\n\u001b[0;32m    426\u001b[0m         \u001b[1;32mif\u001b[0m \u001b[0mencoding\u001b[0m\u001b[1;33m:\u001b[0m\u001b[1;33m\u001b[0m\u001b[1;33m\u001b[0m\u001b[0m\n\u001b[0;32m    427\u001b[0m             \u001b[1;31m# Encoding\u001b[0m\u001b[1;33m\u001b[0m\u001b[1;33m\u001b[0m\u001b[1;33m\u001b[0m\u001b[0m\n\u001b[1;32m--> 428\u001b[1;33m             \u001b[0mf\u001b[0m \u001b[1;33m=\u001b[0m \u001b[0mopen\u001b[0m\u001b[1;33m(\u001b[0m\u001b[0mpath_or_buf\u001b[0m\u001b[1;33m,\u001b[0m \u001b[0mmode\u001b[0m\u001b[1;33m,\u001b[0m \u001b[0mencoding\u001b[0m\u001b[1;33m=\u001b[0m\u001b[0mencoding\u001b[0m\u001b[1;33m,\u001b[0m \u001b[0mnewline\u001b[0m\u001b[1;33m=\u001b[0m\u001b[1;34m\"\"\u001b[0m\u001b[1;33m)\u001b[0m\u001b[1;33m\u001b[0m\u001b[1;33m\u001b[0m\u001b[0m\n\u001b[0m\u001b[0;32m    429\u001b[0m         \u001b[1;32melif\u001b[0m \u001b[0mis_text\u001b[0m\u001b[1;33m:\u001b[0m\u001b[1;33m\u001b[0m\u001b[1;33m\u001b[0m\u001b[0m\n\u001b[0;32m    430\u001b[0m             \u001b[1;31m# No explicit encoding\u001b[0m\u001b[1;33m\u001b[0m\u001b[1;33m\u001b[0m\u001b[1;33m\u001b[0m\u001b[0m\n",
      "\u001b[1;31mPermissionError\u001b[0m: [Errno 13] Permission denied: 'laptop_data.csv'"
     ]
    }
   ],
   "source": [
    "laptop_data.to_csv('laptop_data.csv')"
   ]
  },
  {
   "cell_type": "code",
   "execution_count": null,
   "metadata": {},
   "outputs": [],
   "source": []
  }
 ],
 "metadata": {
  "kernelspec": {
   "display_name": "Python 3",
   "language": "python",
   "name": "python3"
  },
  "language_info": {
   "codemirror_mode": {
    "name": "ipython",
    "version": 3
   },
   "file_extension": ".py",
   "mimetype": "text/x-python",
   "name": "python",
   "nbconvert_exporter": "python",
   "pygments_lexer": "ipython3",
   "version": "3.7.6"
  }
 },
 "nbformat": 4,
 "nbformat_minor": 4
}
